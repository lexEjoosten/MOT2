{
 "cells": [
  {
   "cell_type": "code",
   "execution_count": 1,
   "metadata": {},
   "outputs": [],
   "source": [
    "from functions import *\n",
    "import math\n",
    "import numpy as np\n",
    "import torch as t\n",
    "from torch import tensor\n",
    "import scipy.constants as con\n",
    "import matplotlib.pyplot as plt\n",
    "import torch.linalg as ln\n",
    "import scipy\n",
    "import scipy.stats as stats\n",
    "from mpl_toolkits import mplot3d\n",
    "import variables as vr\n"
   ]
  },
  {
   "cell_type": "code",
   "execution_count": 2,
   "metadata": {},
   "outputs": [],
   "source": [
    "class Transition:\n",
    "    def __init__(self,DR,LL,UL,particle):\n",
    "        #creating a transition requires the natural decay rate, the lower level, and the upper level, and finally the particle for which the transition applies\n",
    "        #DR is the decay rate, given in Hz\n",
    "        #LL is the lower level, a string in the \"levels\" dictionary of the particle\n",
    "        #Ul is the upper level\"                                                     \"\n",
    "        #particle must be a class with the properties assigned\n",
    "        #the transition automatically calculates the M_F of the upper and lower levels based on the F in the upper and lower level designation\n",
    "        self.DR=DR\n",
    "        self.LL=LL\n",
    "        self.UL=UL\n",
    "        self.Ml=int(LL[LL.index(\"F\")+1])\n",
    "        self.Mu=int(UL[UL.index(\"F\")+1])\n",
    "        self.Energy=particle.levels[UL]-particle.levels[LL]\n",
    "\n",
    "\n",
    "class species:\n",
    "    def __init__(self, mass, energy_levels, isotope, nuclear_spin):\n",
    "        self.mass=mass\n",
    "        self.levels=energy_levels\n",
    "        self.isotope=isotope\n",
    "        self.nspin=nuclear_spin\n",
    "        self.dtype='species_indicator'\n",
    "\n",
    "\n",
    "\n",
    "\n",
    "#Rubidium Data\n",
    "rubidium=species(\n",
    "    con.atomic_mass*86.909180520,\n",
    "    #defining energy levels should be expandable, need to dynamically assign energy levels (in terms of transitions and/or in terms of levels?)\n",
    "    {\n",
    "        \"S12F1\":0,\n",
    "        \"S12F2\":4.5283e-24,\n",
    "        \"P12F0\":2.54593588e-19,\n",
    "        \"P12F1\":2.54593636e-19,\n",
    "        \"P12F2\":2.545937398e-19,\n",
    "        \"P12F3\":2.54593917e-19\n",
    "    },\n",
    "    87,\n",
    "    1.5\n",
    ")\n",
    "    \n",
    "    \n",
    "\n",
    "#defining the transitions we care about\n",
    "rubidium.D2cooling=Transition(38.11e6,\"S12F2\",\"P12F3\",rubidium)\n",
    "rubidium.D2repump=Transition(38.11e6,\"S12F1\",\"P12F2\",rubidium)\n",
    "rubidium.D2decay2=Transition(38.11e6,\"S12F2\",\"P12F2\",rubidium)"
   ]
  },
  {
   "cell_type": "code",
   "execution_count": 3,
   "metadata": {},
   "outputs": [],
   "source": [
    "class laserbeam:\n",
    "    def __init__(self,passes_through, direction, wavelength, profile,def_device=vr.def_device):\n",
    "        #passes_through gives one point where the beam passes through (default=[0,0,0])\n",
    "        #direction gives the direction in which the beam moves\n",
    "        #wavelength gives the wavelength of the light in the beam.\n",
    "        #profile is given as a matrix of intensities with the center of the matrix being the center of the beam (expected type is np matrix)\n",
    "        #profile is measured with grid squares of size .1*.1 mm\n",
    "        #profile indicates the beam shape and intensities, not wavelenght profile.\n",
    "        if passes_through==0:\n",
    "            self.P0=tensor(np.array([0,0,0]),device=def_device,dtype=t.float64)\n",
    "        self.k=2*math.pi/wavelength\n",
    "        direction=tensor(direction,device=def_device,dtype=t.float64)\n",
    "        self.dir=t.divide(direction,t.norm(direction,dim=0))\n",
    "        self.kvect=self.dir*self.k\n",
    "        self.profile=profile\n",
    "\n"
   ]
  },
  {
   "cell_type": "code",
   "execution_count": 4,
   "metadata": {},
   "outputs": [
    {
     "name": "stdout",
     "output_type": "stream",
     "text": [
      "tensor([3.6056], dtype=torch.float64)\n",
      "tensor([3.6056], dtype=torch.float64)\n",
      "tensor([3.1623], dtype=torch.float64)\n",
      "tensor([3.1623], dtype=torch.float64)\n",
      "tensor([2.2361], dtype=torch.float64)\n",
      "tensor([2.2361], dtype=torch.float64)\n"
     ]
    }
   ],
   "source": [
    "#defining cooling lasers\n",
    "Int=100\n",
    "Cooling1=laserbeam(0,[1,0,0],780e-9,cgaussianprofile(Int,0.01,0.02, vr.def_device))\n",
    "Cooling2=laserbeam(0,[-1,0,0],780e-9,cgaussianprofile(Int,0.01,0.02, vr.def_device))\n",
    "Cooling3=laserbeam(0,[0,1,0],780e-9,cgaussianprofile(Int,0.01,0.02, vr.def_device))\n",
    "Cooling4=laserbeam(0,[0,-1,0],780e-9,cgaussianprofile(Int,0.01,0.02, vr.def_device))\n",
    "Cooling5=laserbeam(0,[0,0,1],780e-9,cgaussianprofile(Int,0.01,0.02, vr.def_device))\n",
    "Cooling6=laserbeam(0,[0,0,-1],780e-9,cgaussianprofile(Int,0.01,0.02, vr.def_device))\n",
    "Laserbeams=[Cooling1,Cooling2,Cooling3,Cooling4,Cooling5,Cooling6]\n",
    "for i in Laserbeams:\n",
    "    print(disttobeam( tensor([1,2,3],device=vr.def_device),i))"
   ]
  },
  {
   "cell_type": "code",
   "execution_count": 8,
   "metadata": {},
   "outputs": [
    {
     "name": "stdout",
     "output_type": "stream",
     "text": [
      "tensor([[ 0.0042,  0.6860,  0.6787],\n",
      "        [-0.9149,  0.8598,  0.1872],\n",
      "        [ 0.0938, -0.9773,  0.6527],\n",
      "        ...,\n",
      "        [ 0.6612,  0.8055, -0.3620],\n",
      "        [-0.2284, -0.8904,  0.1760],\n",
      "        [ 0.1313,  0.6208,  0.2396]], dtype=torch.float64)\n",
      "[0.96501273 0.87995486 1.17521274 ... 0.88308258 0.90767383 0.66538924]\n"
     ]
    }
   ],
   "source": []
  },
  {
   "cell_type": "markdown",
   "metadata": {},
   "source": [
    "How to treat particles, should I have them be included in each specie, or should i create individual objects, with the overall class of particle. if the latter, how am I to perform the calculations needed in parallel, for this it is likely needed to have a set of arrays which store the positions, velocities, and energy level distributions of the particles. Perhaps the energy level distributions can be modeled in an ad-hoc manner for the high-velocity particles, however this method will likely not hold for lower energies (which may be fine). This is not an easy problem.\n",
    "\n",
    "\n",
    "Awnser: Each particle can be classified by their position, velocity, species, and (energy level distribution).\n",
    "There is no need to place the particles into their species class, nor to make a seperarte class of object called particles. Can simply work with the arrays for each themselves. Might need sets of pointers for each species. but that is trivial to generate."
   ]
  },
  {
   "cell_type": "code",
   "execution_count": 5,
   "metadata": {},
   "outputs": [],
   "source": [
    "\n",
    "#this system has been deprecated as unneeded.\n",
    "\n",
    "'''\n",
    "class off_limit_volumes:\n",
    "    #this class is meant to define domain boundaries, i.e. boundaries for the particles.\n",
    "    #I will handle this by making particles which collide with these boundaries dissapear.\n",
    "    #these boundaries themselves will be defined by a tetrahedron, which has the benefit that it is fully connected,\n",
    "    #allowing for it to be formed by simply defining 4 points. \n",
    "    #This allows simple tests for whether a given point lies within this tetrahedron.\n",
    "    def __init__():\n",
    "'''\n",
    "\n",
    "\n",
    "#need to sort out how to assign `rules` modularly, for now the following rule will create a pyramid which will do.\n",
    "\n",
    "def rule(x,def_device=vr.def_device):\n",
    "    x,y,z=x[:,0],x[:,1],x[:,2]\n",
    "    A=t.max(abs(x),abs(y))-z-0.1*t.ones(x.shape[0],device=def_device)\n",
    "    A+=t.abs(A)\n",
    "    A=t.ceil(A)\n",
    "    A=(A==t.zeros(A.shape[0],device=A.device))\n",
    "    return A\n"
   ]
  },
  {
   "cell_type": "code",
   "execution_count": 16,
   "metadata": {},
   "outputs": [
    {
     "name": "stdout",
     "output_type": "stream",
     "text": [
      "torch.Size([180, 3])\n"
     ]
    },
    {
     "data": {
      "text/plain": [
       "'\\nparticles.createbyT(100000,rubidium)\\nprint(particles.v)\\nplt.hist(particles.v.T,30)\\n'"
      ]
     },
     "execution_count": 16,
     "metadata": {},
     "output_type": "execute_result"
    }
   ],
   "source": [
    "\n",
    "class particles:\n",
    "    #the particles class contains the data for the particles included in the model, this data includes particle position, velocity, species, and \n",
    "    def create(positions,velocities,species):\n",
    "        particles.x=positions\n",
    "        particles.v=velocities\n",
    "        #need species to be represented as a numpy array, as torch tensors cant include general pointers\n",
    "        if species.dtype==object:\n",
    "            particles.type=species\n",
    "        else:\n",
    "            particles.type=np.array([species]).repeat(positions.shape[0])\n",
    "\n",
    "    def createbyT(N,species,T=300,R=0.01,def_device=vr.def_device):\n",
    "        #produces a cloud of N particles at radius R, as though particles wander into this sphere and come into the simulated surface\n",
    "\n",
    "\n",
    "        #randomly distribute points over a shell at radius R. \n",
    "        particles.x=randthreevecs(N,def_device)\n",
    "        # Need to use the chi4 distribution as we're not interested in all the velocies in the gas chamber(which would be maxwell distribution (chi3)) but\n",
    "        #  instead only those which pass te boundary, which is effusion, which must be multiplied by v_n, where v_n is the velocity into the  sphere. \n",
    "        # This also requires the modification of the direction distribution. But doing this correctly allows for a simplified insertion of particles to the model\n",
    "        #\n",
    "        # This mode of addition is neccesarily based off of the ideal gas model.\n",
    "        v_therm=math.sqrt(2*con.k*T/species.mass)\n",
    "        #see notes\n",
    "        vel=stats.chi.rvs(4,size=N,scale=v_therm)*2/math.pi\n",
    "        phi=t.zeros((N),device=def_device).uniform_(0,2*np.pi)\n",
    "        theta=t.arcsin(t.sqrt(t.zeros((N),device=def_device).uniform_()))\n",
    "        \n",
    "        nx=(t.outer(particles.x[:,2],t.tensor([0,1,0],device=def_device))-t.outer(particles.x[:,1],t.tensor([0,0,1],device=def_device))).T\n",
    "        ny=(t.outer(particles.x[:,2],t.tensor([1,0,0],device=def_device))-t.outer(particles.x[:,0],t.tensor([0,0,1],device=def_device))).T\n",
    "        nx=t.divide(nx,t.norm(nx,dim=0))\n",
    "        ny=t.divide(ny,t.norm(ny,dim=0))\n",
    "        particles.v=(tensor(vel,device=def_device)*(t.mul(t.cos(theta),particles.x.T)+t.mul(t.sin(theta),(t.mul(t.cos(phi),nx)+t.mul(t.sin(phi),ny))))).T\n",
    "        if species.dtype==object:\n",
    "            particles.type=species\n",
    "        else:\n",
    "            particles.type=np.array([species]).repeat(N)\n",
    "        particles.x=R*particles.x\n",
    "        \n",
    "        \n",
    "    def add(positions,velocities,species):\n",
    "        particles.x=t.cat((particles.x,positions))\n",
    "        particles.v=t.cat((particles.v,velocities))\n",
    "        #need species to be represented as a numpy array, as torch tensors cant include general pointers\n",
    "        if species.dtype==object:\n",
    "            particles.type=np.append(particles.type,species)\n",
    "        else:\n",
    "            particles.type=np.append(particles.type,np.array([species]).repeat(positions.shape[0]))\n",
    "    \n",
    "    def addbyT(N,species,T=300,R=0.01,def_device=vr.def_device):\n",
    "        #produces a cloud of N particles at radius R, as though particles wander into this sphere and come into the simulated surface\n",
    "\n",
    "\n",
    "        #randomly distribute points over a shell at radius R. \n",
    "        x=randthreevecs(N,def_device)\n",
    "        # Need to use the chi4 distribution as we're not interested in all the velocies in the gas chamber(which would be maxwell distribution (chi3)) but\n",
    "        #  instead only those which pass te boundary, which is effusion, which must be multiplied by v_n, where v_n is the velocity into the  sphere. \n",
    "        # This also requires the modification of the direction distribution. But doing this correctly allows for a simplified insertion of particles to the model\n",
    "        #\n",
    "        # This mode of addition is neccesarily based off of the ideal gas model.\n",
    "        v_therm=math.sqrt(2*con.k*T/species.mass)\n",
    "        #see notes\n",
    "        vel=stats.chi.rvs(4,size=N,scale=v_therm)*2/math.pi\n",
    "        phi=t.zeros((N),device=def_device).uniform_(0,2*np.pi)\n",
    "        theta=t.arcsin(t.sqrt(t.zeros((N),device=def_device).uniform_()))\n",
    "        nx=(t.outer(x[:,2],t.tensor([0,1,0],device=def_device))-t.outer(x[:,1],t.tensor([0,0,1],device=def_device))).T\n",
    "        ny=(t.outer(x[:,2],t.tensor([1,0,0],device=def_device))-t.outer(x[:,0],t.tensor([0,0,1],device=def_device))).T\n",
    "        nx=t.divide(nx,t.norm(nx,dim=0))\n",
    "        ny=t.divide(ny,t.norm(ny,dim=0))\n",
    "        v=(tensor(vel,device=def_device)*(t.mul(t.cos(theta),x.T)+t.mul(t.sin(theta),(t.mul(t.cos(phi),nx)+t.mul(t.sin(phi),ny))))).T\n",
    "        if species.dtype==object:\n",
    "            type=species\n",
    "        else:\n",
    "            type=np.array([species]).repeat(N)\n",
    "        x=R*x\n",
    "        particles.x=t.cat((particles.x,x))\n",
    "        particles.v=t.cat((particles.v,v))\n",
    "        particles.type=np.append(particles.type,type)\n",
    "\n",
    "\n",
    "particles.createbyT(100,rubidium)\n",
    "print(particles.x.shape)\n",
    "'''\n",
    "particles.createbyT(100000,rubidium)\n",
    "print(particles.v)\n",
    "plt.hist(particles.v.T,30)\n",
    "'''"
   ]
  }
 ],
 "metadata": {
  "kernelspec": {
   "display_name": "Python 3.8.8 ('base')",
   "language": "python",
   "name": "python3"
  },
  "language_info": {
   "codemirror_mode": {
    "name": "ipython",
    "version": 3
   },
   "file_extension": ".py",
   "mimetype": "text/x-python",
   "name": "python",
   "nbconvert_exporter": "python",
   "pygments_lexer": "ipython3",
   "version": "3.8.8"
  },
  "orig_nbformat": 4,
  "vscode": {
   "interpreter": {
    "hash": "cd810ab1f9d94fc4d18915669d92fd49f43329cbe198a36a41e602bcc7d85f7a"
   }
  }
 },
 "nbformat": 4,
 "nbformat_minor": 2
}
